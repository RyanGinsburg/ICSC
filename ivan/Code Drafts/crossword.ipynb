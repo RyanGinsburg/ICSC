{
 "cells": [
  {
   "cell_type": "markdown",
   "id": "e93670d2",
   "metadata": {},
   "source": [
    " Methodology:\n",
    "\n",
    " 1. Make methods for altering horizontal, vertical, and diagonal lines\n",
    " 2. Implement mechanisms that determine length and determine random assortment based on selected line type\n",
    " 3. Make cross-intersection stuff\n",
    " 4. Reverse arrays"
   ]
  },
  {
   "cell_type": "code",
   "execution_count": 175,
   "id": "0b7217d5",
   "metadata": {},
   "outputs": [
    {
     "name": "stdout",
     "output_type": "stream",
     "text": [
      "| | | | | | | | | | \n",
      "| | | | | | | | | | \n",
      "| | | | | | | | | | \n",
      "| | | | | | | | | | \n",
      "| | | | | | | | | | \n",
      "| | | | | | | | | | \n",
      "| | | | | | | | | | \n",
      "| | | | | | | | | | \n",
      "| | | | | | | | | | \n",
      "| | | | | | | | | | \n"
     ]
    }
   ],
   "source": [
    "import random\n",
    "import string\n",
    "input = [\"learning\", \"science\", \"fun\", \"apple\", \"horse\"]\n",
    "\n",
    "def randomBackwards(wordlist):\n",
    "    for j in range(len(wordlist)):\n",
    "        choice = random.randint(2, 3)\n",
    "        if (choice == 2):\n",
    "            reverse = \"\"\n",
    "            for i in range(len(wordlist[j])-1, -1, -1):\n",
    "                reverse += wordlist[j][i]\n",
    "            wordlist[j] = reverse\n",
    "    return wordlist\n",
    "\n",
    "words = randomBackwards(input)\n",
    "\n",
    "\n",
    "#grid = [[\"|\"] * 10] * 10\n",
    "grid =  [[\"|\" for i in range(10)] for j in range(10)]\n",
    "#print(grid)\n",
    "\n",
    "def printGrid(grid):\n",
    "    for arr in grid:\n",
    "        printString = \"\"\n",
    "        for elem in arr:\n",
    "            printString += (elem + \" \")\n",
    "        print(printString)\n",
    "printGrid(grid)"
   ]
  },
  {
   "cell_type": "code",
   "execution_count": 176,
   "id": "14767c9e",
   "metadata": {},
   "outputs": [
    {
     "data": {
      "text/plain": [
       "'\\nword = \"ivan\"\\nwhile True:\\n    x = random.randint(0, 9)\\n    y = random.randint(0, 10-len(word))\\n    if horizontal(grid, [x, y], word):\\n        print(f\"{x}, {y}\")\\n        break\\n    print(\"AHHHHHH\")\\n\\nprintGrid(grid)\\n'"
      ]
     },
     "execution_count": 176,
     "metadata": {},
     "output_type": "execute_result"
    }
   ],
   "source": [
    "def horizontal(grid, startPoint, word):\n",
    "    i = startPoint[1]\n",
    "    for w, char in enumerate(word):\n",
    "        if grid[startPoint[0]][i] != \"|\" and grid[startPoint[0]][i] != word[w]: #THROW SAME KEY LOGIC HERE\n",
    "            return False\n",
    "        i += 1\n",
    "    i = startPoint[1]\n",
    "    for j, char in enumerate(word):\n",
    "        grid[startPoint[0]][i] = word[j]\n",
    "        i+=1 \n",
    "    return True\n",
    "\n",
    "'''\n",
    "word = \"ivan\"\n",
    "while True:\n",
    "    x = random.randint(0, 9)\n",
    "    y = random.randint(0, 10-len(word))\n",
    "    if horizontal(grid, [x, y], word):\n",
    "        print(f\"{x}, {y}\")\n",
    "        break\n",
    "    print(\"AHHHHHH\")\n",
    "\n",
    "printGrid(grid)\n",
    "'''"
   ]
  },
  {
   "cell_type": "code",
   "execution_count": 177,
   "id": "3c9caa6a",
   "metadata": {},
   "outputs": [
    {
     "data": {
      "text/plain": [
       "'\\nwhile True:\\n    x = random.randint(0, 10-len(word))\\n    y = random.randint(0, 9)\\n    if vertical(grid, [x, y], word):\\n        print(f\"{x}, {y}\")\\n        break\\n    print(\"AHHHHHH\")\\nprintGrid(grid)\\n'"
      ]
     },
     "execution_count": 177,
     "metadata": {},
     "output_type": "execute_result"
    }
   ],
   "source": [
    "def vertical(grid, startPoint, word):\n",
    "    i = startPoint[0]\n",
    "    for w, char in enumerate(word):\n",
    "        if grid[i][startPoint[1]] != \"|\" and grid[startPoint[0]][i] != word[w]: #THROW SAME KEY LOGIC HERE\n",
    "            return False\n",
    "        if i != 9:\n",
    "            i += 1\n",
    "    i = startPoint[0]\n",
    "    for j, char in enumerate(word):\n",
    "        grid[i][startPoint[1]] = word[j]\n",
    "        i+=1 \n",
    "    return True\n",
    "'''\n",
    "while True:\n",
    "    x = random.randint(0, 10-len(word))\n",
    "    y = random.randint(0, 9)\n",
    "    if vertical(grid, [x, y], word):\n",
    "        print(f\"{x}, {y}\")\n",
    "        break\n",
    "    print(\"AHHHHHH\")\n",
    "printGrid(grid)\n",
    "'''"
   ]
  },
  {
   "cell_type": "code",
   "execution_count": 178,
   "id": "19412289",
   "metadata": {},
   "outputs": [
    {
     "data": {
      "text/plain": [
       "'\\nwhile True:\\n    x = random.randint(0, 10-len(word))\\n    y = random.randint(0, 10-len(word))\\n    if diagonalDown(grid, [x, y], word):\\n        print(f\"{x}, {y}\")\\n        break\\n    print(\"AHHHHHH\")\\nprintGrid(grid)\\n'"
      ]
     },
     "execution_count": 178,
     "metadata": {},
     "output_type": "execute_result"
    }
   ],
   "source": [
    "def diagonalDown(grid, startPoint, word):\n",
    "    i = startPoint[0]\n",
    "    l = startPoint[1]\n",
    "    for w, char in enumerate(word):\n",
    "        if grid[i][l] != \"|\" and grid[startPoint[0]][i] != word[w]: #THROW SAME KEY LOGIC HERE\n",
    "            return False\n",
    "        if i != 9:\n",
    "            i += 1\n",
    "        if l != 9:\n",
    "            l += 1\n",
    "    i = startPoint[0]\n",
    "    l = startPoint[1]\n",
    "    for j, char in enumerate(word):\n",
    "        grid[i][l] = word[j]\n",
    "        i+=1\n",
    "        l+=1 \n",
    "    return True\n",
    "'''\n",
    "while True:\n",
    "    x = random.randint(0, 10-len(word))\n",
    "    y = random.randint(0, 10-len(word))\n",
    "    if diagonalDown(grid, [x, y], word):\n",
    "        print(f\"{x}, {y}\")\n",
    "        break\n",
    "    print(\"AHHHHHH\")\n",
    "printGrid(grid)\n",
    "'''"
   ]
  },
  {
   "cell_type": "markdown",
   "id": "3c5c45fa",
   "metadata": {},
   "source": []
  },
  {
   "cell_type": "code",
   "execution_count": 179,
   "id": "22a34067",
   "metadata": {},
   "outputs": [
    {
     "data": {
      "text/plain": [
       "'\\nwhile True:\\n    x = random.randint(len(word)-1, 9)\\n    y = random.randint(0, 10-len(word))\\n    if diagonalUp(grid, [x, y], word):\\n        print(f\"{x}, {y}\")\\n        break\\n    print(\"AHHHHHH\")\\nprintGrid(grid)\\n'"
      ]
     },
     "execution_count": 179,
     "metadata": {},
     "output_type": "execute_result"
    }
   ],
   "source": [
    "def diagonalUp(grid, startPoint, word):\n",
    "    i = startPoint[0]\n",
    "    l = startPoint[1]\n",
    "    for w, char in enumerate(word):\n",
    "        if grid[i][l] != \"|\" and grid[startPoint[0]][i] != word[w]: #THROW SAME KEY LOGIC HERE\n",
    "            return False\n",
    "        if i > 0:\n",
    "            i -= 1\n",
    "        if l < 9:\n",
    "            l += 1\n",
    "    i = startPoint[0]\n",
    "    l = startPoint[1]\n",
    "    for j, char in enumerate(word):\n",
    "        grid[i][l] = word[j]\n",
    "        if i > 0:\n",
    "            i -= 1\n",
    "        l+=1 \n",
    "    return True\n",
    "\n",
    "'''\n",
    "def diagonalUp(grid, startPoint, word):\n",
    "    i = startPoint[0]\n",
    "    l = startPoint[1]\n",
    "    for j, char in enumerate(word):\n",
    "        grid[i][l] = word[j]\n",
    "        i-=1\n",
    "        l+=1 \n",
    "'''\n",
    "'''\n",
    "while True:\n",
    "    x = random.randint(len(word)-1, 9)\n",
    "    y = random.randint(0, 10-len(word))\n",
    "    if diagonalUp(grid, [x, y], word):\n",
    "        print(f\"{x}, {y}\")\n",
    "        break\n",
    "    print(\"AHHHHHH\")\n",
    "printGrid(grid)\n",
    "'''"
   ]
  },
  {
   "cell_type": "code",
   "execution_count": 180,
   "id": "659b85fd",
   "metadata": {},
   "outputs": [
    {
     "name": "stdout",
     "output_type": "stream",
     "text": [
      "Horizontal\n",
      "Diagonal Down\n",
      "Horizontal\n",
      "Horizontal\n",
      "Diagonal Down\n"
     ]
    },
    {
     "data": {
      "text/plain": [
       "'\\nprint(\"\")\\nprintGrid(grid)\\n'"
      ]
     },
     "execution_count": 180,
     "metadata": {},
     "output_type": "execute_result"
    }
   ],
   "source": [
    "grid =[[\"|\" for i in range(10)] for j in range(10)]\n",
    "for word in words:\n",
    "    num = random.randint(1, 4)\n",
    "    match num:\n",
    "        case 1:\n",
    "            print(\"Horizontal\") \n",
    "            for i in range(100):\n",
    "                x = random.randint(0, 9)\n",
    "                y = random.randint(0, 10-len(word))\n",
    "                #print(f\"{x}, {y}\")\n",
    "                if(horizontal(grid, [x, y], word)):\n",
    "                    found = True\n",
    "                    break\n",
    "            if found == False:\n",
    "                words.append(word)\n",
    "                print(\"IT WORKED\")\n",
    "                continue\n",
    "            #printGrid(grid)\n",
    "        case 2:\n",
    "            print(\"Vertical\")\n",
    "            for i in range(100):\n",
    "                x = random.randint(0, 10-len(word))\n",
    "                y = random.randint(0, 9)\n",
    "                #print(f\"{x}, {y}\")\n",
    "                if(vertical(grid, [x, y], word)):\n",
    "                    found = True\n",
    "                    break\n",
    "            if found == False:\n",
    "                words.append(word)\n",
    "                print(\"IT WORKED\")\n",
    "                continue\n",
    "            #printGrid(grid)\n",
    "        case 3:\n",
    "            print(\"Diagonal Down\")\n",
    "            for i in range(100):\n",
    "                x = random.randint(0, 10-len(word))\n",
    "                y = random.randint(0, 10-len(word)) \n",
    "                #print(f\"{x}, {y}\")\n",
    "                if(diagonalDown(grid, [x, y], word)):\n",
    "                    found = True\n",
    "                    break \n",
    "            if found == False:\n",
    "                words.append(word)\n",
    "                print(\"IT WORKED\")\n",
    "                continue\n",
    "        case 4:\n",
    "            print(\"Diagonal Up\")\n",
    "            for i in range(100):\n",
    "                x = random.randint(len(word)-1, 9)\n",
    "                y = random.randint(0, 10-len(word))\n",
    "                #print(f\"{x}, {y}\")\n",
    "                if(diagonalUp(grid, [x, y], word)):\n",
    "                    found = True\n",
    "                    break  \n",
    "            if found == False:\n",
    "                words.append(word)\n",
    "                print(\"IT WORKED\")\n",
    "                continue\n",
    "            #printGrid(grid)\n",
    "'''\n",
    "print(\"\")\n",
    "printGrid(grid)\n",
    "'''"
   ]
  },
  {
   "cell_type": "code",
   "execution_count": 181,
   "id": "a42d29cf",
   "metadata": {},
   "outputs": [
    {
     "name": "stdout",
     "output_type": "stream",
     "text": [
      "e l p p a | | | | | \n",
      "| | | | | | | | | | \n",
      "| | | | | | | | | | \n",
      "l e a r n i n g | | \n",
      "e | | | | | | | | | \n",
      "| s | | | | | | | | \n",
      "| | r | | n u f | | \n",
      "| | | o | | | | | | \n",
      "| | | | h | | | | | \n",
      "| | | | | | | | | | \n",
      "\n",
      "e l p p a j z c q c \n",
      "u u c r f u y v m m \n",
      "o v a n y y o a d e \n",
      "l e a r n i n g e m \n",
      "e c e a q z s i o j \n",
      "b s i m k g t r c n \n",
      "i d r b y n u f r j \n",
      "f g b o b i y t s c \n",
      "k t r x h g v u d s \n",
      "p l b n e p p x p w \n"
     ]
    }
   ],
   "source": [
    "def fillGaps(grid):\n",
    "    for i in range(len(grid)):\n",
    "        for j in range(len(grid[0])):\n",
    "            #print(elem)\n",
    "            if grid[i][j] == \"|\":\n",
    "                grid[i][j] = random.choice(string.ascii_letters).lower()\n",
    "                #print(grid[i][j])\n",
    "\n",
    "\n",
    "#print(random.choice(string.ascii_letters))\n",
    "printGrid(grid)\n",
    "print()\n",
    "\n",
    "fillGaps(grid)\n",
    "printGrid(grid)"
   ]
  },
  {
   "cell_type": "code",
   "execution_count": null,
   "id": "b05367ab",
   "metadata": {},
   "outputs": [],
   "source": []
  }
 ],
 "metadata": {
  "kernelspec": {
   "display_name": "Python 3",
   "language": "python",
   "name": "python3"
  },
  "language_info": {
   "codemirror_mode": {
    "name": "ipython",
    "version": 3
   },
   "file_extension": ".py",
   "mimetype": "text/x-python",
   "name": "python",
   "nbconvert_exporter": "python",
   "pygments_lexer": "ipython3",
   "version": "3.12.10"
  }
 },
 "nbformat": 4,
 "nbformat_minor": 5
}
